{
 "cells": [
  {
   "cell_type": "code",
   "execution_count": null,
   "id": "c0c51e66",
   "metadata": {},
   "outputs": [],
   "source": [
    "# In class exercise one\n",
    "\n",
    "color = input(\"What is your vehicle color? \")\n",
    "\n",
    "make = input(\"What is the make of your vehicle? \")\n",
    "\n",
    "model = input(\"What is the model of your vehicle?\")\n",
    "\n",
    "# answer = f'Oh so you drive a {color}, {make} {model}?'\n",
    "\n",
    "# or\n",
    "\n",
    "answer = \"Oh so you drive a {}, {} {}?\".format(color, make, model)\n",
    "\n",
    "print(answer)"
   ]
  },
  {
   "cell_type": "code",
   "execution_count": null,
   "id": "c49ccb9f",
   "metadata": {},
   "outputs": [],
   "source": [
    "\n",
    "# In class exercise two\n",
    "\n",
    "statement = input(\"Give me an input and I'll tell you if it's gotta p. \")\n",
    "\n",
    "if 'p' in statement.lower():\n",
    "    print(True)\n",
    "elif 'p' not in statement.lower():\n",
    "    print(False)\n"
   ]
  },
  {
   "cell_type": "code",
   "execution_count": null,
   "id": "44f264fb",
   "metadata": {},
   "outputs": [],
   "source": [
    "# The \"Jupyter Python CodeAlong Rangers file\" that was used for this module\n",
    "# mentions a third in class exercise, but I didn't find any within the \n",
    "# videos"
   ]
  },
  {
   "cell_type": "code",
   "execution_count": 2,
   "id": "9edaaa87",
   "metadata": {},
   "outputs": [
    {
     "name": "stdout",
     "output_type": "stream",
     "text": [
      "1\n",
      "8\n",
      "27\n",
      "64\n",
      "125\n",
      "216\n",
      "343\n",
      "512\n",
      "729\n",
      "1000\n"
     ]
    }
   ],
   "source": [
    "for i in range(1, 11):\n",
    "    answer = i ** 3\n",
    "    if answer <= 1000:\n",
    "        print(answer)\n",
    "    elif answer > 1000:\n",
    "        break"
   ]
  },
  {
   "cell_type": "code",
   "execution_count": 7,
   "id": "51e5e85b",
   "metadata": {},
   "outputs": [
    {
     "name": "stdout",
     "output_type": "stream",
     "text": [
      "2\n",
      "3\n",
      "5\n",
      "7\n",
      "11\n",
      "13\n",
      "17\n",
      "19\n",
      "23\n",
      "29\n",
      "31\n",
      "37\n",
      "41\n",
      "43\n",
      "47\n",
      "53\n",
      "59\n",
      "61\n",
      "67\n",
      "71\n",
      "73\n",
      "79\n",
      "83\n",
      "89\n",
      "97\n"
     ]
    }
   ],
   "source": [
    "for i in range(2, 101):\n",
    "    for x in range(2,10):\n",
    "        if i % x == 0 and x != i:\n",
    "            break \n",
    "        elif i % x != 0 and x == 9:\n",
    "            print(i)\n",
    "    "
   ]
  },
  {
   "cell_type": "code",
   "execution_count": 6,
   "id": "83737b97",
   "metadata": {},
   "outputs": [
    {
     "name": "stdout",
     "output_type": "stream",
     "text": [
      "What is your age? 57\n",
      "adults\n"
     ]
    }
   ],
   "source": [
    "age = input(\"What is your age? \")\n",
    "if int(age) < 18:\n",
    "    print(\"kids\")\n",
    "elif int(age) >= 18 and int(age) <= 65:\n",
    "    print(\"adults\")\n",
    "else:\n",
    "    print(\"seniors\")"
   ]
  },
  {
   "cell_type": "code",
   "execution_count": null,
   "id": "02fc394c",
   "metadata": {},
   "outputs": [],
   "source": []
  },
  {
   "cell_type": "code",
   "execution_count": null,
   "id": "53f511ae",
   "metadata": {},
   "outputs": [],
   "source": []
  }
 ],
 "metadata": {
  "kernelspec": {
   "display_name": "Python 3 (ipykernel)",
   "language": "python",
   "name": "python3"
  },
  "language_info": {
   "codemirror_mode": {
    "name": "ipython",
    "version": 3
   },
   "file_extension": ".py",
   "mimetype": "text/x-python",
   "name": "python",
   "nbconvert_exporter": "python",
   "pygments_lexer": "ipython3",
   "version": "3.9.13"
  }
 },
 "nbformat": 4,
 "nbformat_minor": 5
}
